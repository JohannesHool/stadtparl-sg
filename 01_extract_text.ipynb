{
 "cells": [
  {
   "cell_type": "markdown",
   "metadata": {},
   "source": [
    "### Attention\n",
    "\n",
    "`pytesseract` needs a tesseract installation to work. `pdf2image` requires a poppler installation. Here are starting links for the two installations:\n",
    "\n",
    "**Tesseract**: https://github.com/UB-Mannheim/tesseract/wiki\n",
    "**pdf2image (poppler)**: https://pdf2image.readthedocs.io/en/latest/installation.html\n",
    "\n",
    "Keep in mind that on windows systems you need to add the installations to PATH"
   ]
  },
  {
   "cell_type": "markdown",
   "metadata": {},
   "source": [
    "# Setup"
   ]
  },
  {
   "cell_type": "code",
   "execution_count": null,
   "metadata": {},
   "outputs": [],
   "source": [
    "from pdf2image import convert_from_path\n",
    "from PIL import Image, ImageFilter\n",
    "import pytesseract\n",
    "import os"
   ]
  },
  {
   "cell_type": "code",
   "execution_count": null,
   "metadata": {},
   "outputs": [],
   "source": [
    "def preprocess_image(image):\n",
    "    \"\"\"\n",
    "    Apply image processing techniques to enhance OCR accuracy.\n",
    "\n",
    "    Args:\n",
    "        image (PIL.Image): Original image.\n",
    "\n",
    "    Returns:\n",
    "        PIL.Image: Preprocessed image.\n",
    "    \"\"\"\n",
    "    # Convert to grayscale\n",
    "    image = image.convert('L')\n",
    "    # Apply adaptive thresholding for binarization\n",
    "    image = image.point(lambda x: 0 if x < 128 else 255, '1')\n",
    "    # Remove noise and smooth the image\n",
    "    image = image.filter(ImageFilter.MedianFilter())\n",
    "    return image\n",
    "\n",
    "def merge_images(images):\n",
    "    \"\"\"\n",
    "    Vertically merge a list of images into one single image.\n",
    "\n",
    "    Args:\n",
    "        images (list): List of PIL Image objects.\n",
    "\n",
    "    Returns:\n",
    "        PIL.Image: A single merged image.\n",
    "    \"\"\"\n",
    "    preprocessed_images = [preprocess_image(img) for img in images]\n",
    "    widths, heights = zip(*(i.size for i in preprocessed_images))\n",
    "    total_height = sum(heights)\n",
    "    max_width = max(widths)\n",
    "    merged_image = Image.new('L', (max_width, total_height), 'white')\n",
    "    y_offset = 0\n",
    "    for im in preprocessed_images:\n",
    "        merged_image.paste(im, (0, y_offset))\n",
    "        y_offset += im.size[1]\n",
    "    return merged_image\n",
    "\n",
    "\n",
    "def extract_text_from_pdf(pdf_path, output_txt_path, dpi):\n",
    "    \"\"\"\n",
    "    Extract text from a PDF file by converting it to a single image and then using OCR.\n",
    "\n",
    "    Args:\n",
    "    pdf_path (str): Path to the PDF file.\n",
    "    output_txt_path (str): Path to the output text file to save the extracted text.\n",
    "    \"\"\"\n",
    "    # Convert PDF to images (one per page)\n",
    "    try:\n",
    "        images = convert_from_path(pdf_path, dpi=dpi)\n",
    "    except:\n",
    "        images = convert_from_path(pdf_path, dpi=dpi-100)\n",
    "\n",
    "    # Configuring tesseract to use a specific PSM and OEM\n",
    "    custom_oem_psm_config = '--oem 3 --psm 3'\n",
    "\n",
    "    # Use pytesseract to extract text\n",
    "    text = ''\n",
    "    for image in images:\n",
    "        text += pytesseract.image_to_string(image, lang='deu', config=custom_oem_psm_config)\n",
    "\n",
    "    # Save the extracted text to a file\n",
    "    with open(output_txt_path, 'w', encoding='utf-8') as file:\n",
    "        file.write(text)\n"
   ]
  },
  {
   "cell_type": "markdown",
   "metadata": {},
   "source": [
    "# Parameters"
   ]
  },
  {
   "cell_type": "code",
   "execution_count": null,
   "metadata": {},
   "outputs": [],
   "source": [
    "# Paths\n",
    "PDF_DIRECTORY = 'data/pdfs'\n",
    "TEXT_DIRECTORY = 'data/texts'\n",
    "\n",
    "# DPI for PDF to image transformation\n",
    "dpi = 300"
   ]
  },
  {
   "cell_type": "code",
   "execution_count": null,
   "metadata": {},
   "outputs": [],
   "source": [
    "# Crate folders if the don't exist\n",
    "if not os.path.exists(TEXT_DIRECTORY):\n",
    "    os.makedirs(TEXT_DIRECTORY)"
   ]
  },
  {
   "cell_type": "markdown",
   "metadata": {},
   "source": [
    "# Extract Text"
   ]
  },
  {
   "cell_type": "code",
   "execution_count": null,
   "metadata": {},
   "outputs": [],
   "source": [
    "# List all pdfs to read\n",
    "pdf_names = os.listdir(PDF_DIRECTORY)\n",
    "\n",
    "# For each pdf create a txt file\n",
    "for pdf_name in pdf_names:\n",
    "    \n",
    "    in_dir = f'{PDF_DIRECTORY}/{pdf_name}'\n",
    "    file_name = pdf_name[:-4] + '.txt'\n",
    "    txt_out = TEXT_DIRECTORY + '/' + file_name\n",
    "\n",
    "    print(file_name)\n",
    "\n",
    "    if file_name not in os.listdir(TEXT_DIRECTORY):\n",
    "        extract_text_from_pdf(in_dir, txt_out, dpi)"
   ]
  }
 ],
 "metadata": {
  "kernelspec": {
   "display_name": "stadtparl-sg-tjsVPsVI",
   "language": "python",
   "name": "python3"
  },
  "language_info": {
   "codemirror_mode": {
    "name": "ipython",
    "version": 3
   },
   "file_extension": ".py",
   "mimetype": "text/x-python",
   "name": "python",
   "nbconvert_exporter": "python",
   "pygments_lexer": "ipython3",
   "version": "3.12.1"
  }
 },
 "nbformat": 4,
 "nbformat_minor": 2
}
