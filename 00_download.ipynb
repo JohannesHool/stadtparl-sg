{
 "cells": [
  {
   "cell_type": "markdown",
   "metadata": {},
   "source": [
    "# Setup"
   ]
  },
  {
   "cell_type": "code",
   "execution_count": 13,
   "metadata": {},
   "outputs": [],
   "source": [
    "import os\n",
    "import requests\n",
    "import zipfile\n",
    "from io import BytesIO\n",
    "import pandas as pd\n",
    "import re"
   ]
  },
  {
   "cell_type": "code",
   "execution_count": 14,
   "metadata": {},
   "outputs": [],
   "source": [
    "def extract_pdf_file(url, path, name):\n",
    "    '''\n",
    "    Downloads a ZIP file from a given URL, extracts a PDF file starting with a specified prefix,\n",
    "    and saves it to a specified directory with a new name.\n",
    "\n",
    "    Args:\n",
    "        url (str): The URL from which to download the ZIP file.\n",
    "        prefix (str): The prefix to filter PDF files within the ZIP.\n",
    "        path (str): The local directory path to save the extracted PDF file.\n",
    "        name (str): The new name for the extracted PDF file, without the '.pdf' extension.\n",
    "\n",
    "    Returns:\n",
    "        str or None: The path to the saved PDF file if a PDF file with the specified prefix is found\n",
    "                     and successfully saved; otherwise, None if no PDF file matches the criteria.\n",
    "   \n",
    "    '''\n",
    "    # Download data\n",
    "    response = requests.get(url, stream=True)\n",
    "\n",
    "    # Open Zip\n",
    "    with zipfile.ZipFile(BytesIO(response.content)) as zip_file:\n",
    "\n",
    "        pdf_count = 0\n",
    "\n",
    "        # Iterate over all files in Zip\n",
    "        for file_name in zip_file.namelist():\n",
    "            # Only process pdf files\n",
    "            if file_name.endswith('.pdf'):\n",
    "\n",
    "                # Write pdf to disk\n",
    "                with zip_file.open(file_name) as file_content:\n",
    "                    content = file_content.read()\n",
    "\n",
    "                    # The name of the pdf is the row id plus the pdf_count plus the original file name\n",
    "                    full_path = re.sub(r'[<>:\"/\\\\|?*#;\\r\\n, -]', '_', file_name)\n",
    "\n",
    "                    if len(full_path) > 104:\n",
    "                        full_path = full_path[0:100] + '.pdf'\n",
    "                        \n",
    "                    full_path = f'{path}/{name}_{pdf_count}_{full_path}'\n",
    "                    \n",
    "\n",
    "                    with open(full_path, 'wb') as new_file:\n",
    "                        new_file.write(content)\n",
    "\n",
    "                    pdf_count += 1\n",
    "    # Return None if no matchin file is found\n",
    "    return None"
   ]
  },
  {
   "cell_type": "markdown",
   "metadata": {},
   "source": [
    "# Parameters"
   ]
  },
  {
   "cell_type": "code",
   "execution_count": 15,
   "metadata": {},
   "outputs": [],
   "source": [
    "# Link to the SG. OGD repository\n",
    "SG_OGD_LINK = 'https://daten.stadt.sg.ch/api/explore/v2.1/catalog/datasets/traktandierte-geschaefte-sitzungen-stadtparlament-stgallen/exports/parquet?lang=de&timezone=Europe%2FZurich'\n",
    "\n",
    "# Paths\n",
    "DATA_DIRECTORY = 'data'\n",
    "DOWNLOAD_DIRECTORY = f'{DATA_DIRECTORY}/pdfs'"
   ]
  },
  {
   "cell_type": "code",
   "execution_count": 16,
   "metadata": {},
   "outputs": [],
   "source": [
    "# Crate folders if the don't exist\n",
    "if not os.path.exists(DATA_DIRECTORY):\n",
    "    os.makedirs(DATA_DIRECTORY)\n",
    "\n",
    "if not os.path.exists(DOWNLOAD_DIRECTORY):\n",
    "    os.makedirs(DOWNLOAD_DIRECTORY)"
   ]
  },
  {
   "cell_type": "markdown",
   "metadata": {},
   "source": [
    "# Download"
   ]
  },
  {
   "cell_type": "code",
   "execution_count": 17,
   "metadata": {},
   "outputs": [],
   "source": [
    "# Download source file from SG_OGD_LINK\n",
    "df = pd.read_parquet(SG_OGD_LINK)\n",
    "\n",
    "# Create id column from the date and issue number\n",
    "df['id'] = df['sitzungsdatum'] + '-' + df['traktandennummer']\n",
    "\n",
    "# Filter source data and only keep Interpellationen\n",
    "df = df[df['ebene4'] == 'Stadtparlament: Parlamentarische Vorstösse']"
   ]
  },
  {
   "cell_type": "code",
   "execution_count": 18,
   "metadata": {
    "metadata": {}
   },
   "outputs": [],
   "source": [
    "# Download pdfs for all entries\n",
    "\n",
    "file_path = [] # Placeholder to track issues where no file was found\n",
    "\n",
    "for _, row in df.iterrows():\n",
    "    extract_pdf_file(row['download_traktandum'], DOWNLOAD_DIRECTORY, row['id'])"
   ]
  },
  {
   "cell_type": "code",
   "execution_count": 19,
   "metadata": {},
   "outputs": [],
   "source": [
    "downloaded_files = os.listdir(DOWNLOAD_DIRECTORY)\n",
    "\n",
    "df_documents = []\n",
    "\n",
    "for file_name in downloaded_files:\n",
    "    file_elements = file_name.split('_')\n",
    "    df_documents.append([file_elements[0], file_elements[1], file_name])\n",
    "\n",
    "df_documents = pd.DataFrame(df_documents, columns=['id', 'document_no', 'file_name'])\n",
    "\n",
    "df_merged = pd.merge(df, df_documents, how='left', on=['id'])"
   ]
  },
  {
   "cell_type": "code",
   "execution_count": 20,
   "metadata": {},
   "outputs": [],
   "source": [
    "# Save source table and indicator if files were found to disk\n",
    "df_merged.to_csv(f'{DATA_DIRECTORY}/source_table.csv', index=False, sep=';')"
   ]
  }
 ],
 "metadata": {
  "kernelspec": {
   "display_name": "stadtparl-sg-tjsVPsVI",
   "language": "python",
   "name": "python3"
  },
  "language_info": {
   "codemirror_mode": {
    "name": "ipython",
    "version": 3
   },
   "file_extension": ".py",
   "mimetype": "text/x-python",
   "name": "python",
   "nbconvert_exporter": "python",
   "pygments_lexer": "ipython3",
   "version": "3.12.1"
  }
 },
 "nbformat": 4,
 "nbformat_minor": 2
}
