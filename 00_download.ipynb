{
 "cells": [
  {
   "cell_type": "markdown",
   "metadata": {},
   "source": [
    "# Setup"
   ]
  },
  {
   "cell_type": "code",
   "execution_count": 1,
   "metadata": {},
   "outputs": [],
   "source": [
    "import os\n",
    "import requests\n",
    "import zipfile\n",
    "from io import BytesIO\n",
    "import pandas as pd"
   ]
  },
  {
   "cell_type": "code",
   "execution_count": 2,
   "metadata": {},
   "outputs": [],
   "source": [
    "def extract_pdf_file(url, prefix, path, name):\n",
    "    '''\n",
    "    Downloads a ZIP file from a given URL, extracts a PDF file starting with a specified prefix,\n",
    "    and saves it to a specified directory with a new name.\n",
    "\n",
    "    Args:\n",
    "        url (str): The URL from which to download the ZIP file.\n",
    "        prefix (str): The prefix to filter PDF files within the ZIP.\n",
    "        path (str): The local directory path to save the extracted PDF file.\n",
    "        name (str): The new name for the extracted PDF file, without the '.pdf' extension.\n",
    "\n",
    "    Returns:\n",
    "        str or None: The path to the saved PDF file if a PDF file with the specified prefix is found\n",
    "                     and successfully saved; otherwise, None if no PDF file matches the criteria.\n",
    "   \n",
    "    '''\n",
    "    # Download data\n",
    "    response = requests.get(url, stream=True)\n",
    "\n",
    "    # Open Zip\n",
    "    with zipfile.ZipFile(BytesIO(response.content)) as zip_file:\n",
    "\n",
    "        # Iterate over all files in Zip\n",
    "        for file_name in zip_file.namelist():\n",
    "\n",
    "            # If a file with the right prefix is found, extract it\n",
    "            if file_name.startswith(prefix) and file_name.endswith('.pdf'):\n",
    "                with zip_file.open(file_name) as file_content:\n",
    "                    content = file_content.read()\n",
    "\n",
    "                    # Save pdf to disk\n",
    "                    full_path = f'{path}/{name}.pdf'\n",
    "                    with open(full_path, 'wb') as new_file:\n",
    "                        new_file.write(content)\n",
    "                        return full_path\n",
    "    # Return None if no matchin file is found\n",
    "    return None"
   ]
  },
  {
   "cell_type": "markdown",
   "metadata": {},
   "source": [
    "# Parameters"
   ]
  },
  {
   "cell_type": "code",
   "execution_count": 3,
   "metadata": {},
   "outputs": [],
   "source": [
    "# Link to the SG. OGD repository\n",
    "SG_OGD_LINK = 'https://daten.stadt.sg.ch/api/explore/v2.1/catalog/datasets/traktandierte-geschaefte-sitzungen-stadtparlament-stgallen/exports/parquet?lang=de&timezone=Europe%2FZurich'\n",
    "\n",
    "# Paths\n",
    "DATA_DIRECTORY = 'data'\n",
    "DOWNLOAD_DIRECTORY = f'{DATA_DIRECTORY}/pdfs'"
   ]
  },
  {
   "cell_type": "code",
   "execution_count": 4,
   "metadata": {},
   "outputs": [],
   "source": [
    "# Crate folders if the don't exist\n",
    "if not os.path.exists(DATA_DIRECTORY):\n",
    "    os.makedirs(DATA_DIRECTORY)\n",
    "\n",
    "if not os.path.exists(DOWNLOAD_DIRECTORY):\n",
    "    os.makedirs(DOWNLOAD_DIRECTORY)"
   ]
  },
  {
   "cell_type": "markdown",
   "metadata": {},
   "source": [
    "# Download"
   ]
  },
  {
   "cell_type": "code",
   "execution_count": 10,
   "metadata": {},
   "outputs": [
    {
     "data": {
      "text/html": [
       "<div>\n",
       "<style scoped>\n",
       "    .dataframe tbody tr th:only-of-type {\n",
       "        vertical-align: middle;\n",
       "    }\n",
       "\n",
       "    .dataframe tbody tr th {\n",
       "        vertical-align: top;\n",
       "    }\n",
       "\n",
       "    .dataframe thead th {\n",
       "        text-align: right;\n",
       "    }\n",
       "</style>\n",
       "<table border=\"1\" class=\"dataframe\">\n",
       "  <thead>\n",
       "    <tr style=\"text-align: right;\">\n",
       "      <th></th>\n",
       "      <th>nr</th>\n",
       "      <th>sitzungs_id</th>\n",
       "      <th>link_sitzung</th>\n",
       "      <th>legislatur</th>\n",
       "      <th>jahr</th>\n",
       "      <th>bezeichnung</th>\n",
       "      <th>sitzungsdatum</th>\n",
       "      <th>freigabe</th>\n",
       "      <th>ort</th>\n",
       "      <th>zeit</th>\n",
       "      <th>...</th>\n",
       "      <th>ebene6</th>\n",
       "      <th>dokumentendatum</th>\n",
       "      <th>dokumententitel</th>\n",
       "      <th>traktandentitel</th>\n",
       "      <th>vorberatende_kommission</th>\n",
       "      <th>traktandenstatus</th>\n",
       "      <th>traktandennummer</th>\n",
       "      <th>geschaeft_guid</th>\n",
       "      <th>traktandum_guid</th>\n",
       "      <th>id</th>\n",
       "    </tr>\n",
       "  </thead>\n",
       "  <tbody>\n",
       "  </tbody>\n",
       "</table>\n",
       "<p>0 rows × 37 columns</p>\n",
       "</div>"
      ],
      "text/plain": [
       "Empty DataFrame\n",
       "Columns: [nr, sitzungs_id, link_sitzung, legislatur, jahr, bezeichnung, sitzungsdatum, freigabe, ort, zeit, bemerkungen, download_sitzung, download_protokoll, aktenplan, geschaeftstyp, person, partei, download_traktandum, link_traktandum, aktenplannummer, gliederung, gliederungsnummer, ebene1, ebene2, ebene3, ebene4, ebene5, ebene6, dokumentendatum, dokumententitel, traktandentitel, vorberatende_kommission, traktandenstatus, traktandennummer, geschaeft_guid, traktandum_guid, id]\n",
       "Index: []\n",
       "\n",
       "[0 rows x 37 columns]"
      ]
     },
     "execution_count": 10,
     "metadata": {},
     "output_type": "execute_result"
    }
   ],
   "source": [
    "# Download source file from SG_OGD_LINK\n",
    "df = pd.read_parquet(SG_OGD_LINK)\n",
    "\n",
    "# Create id column from the date and issue number\n",
    "df['id'] = df['sitzungsdatum'] + '-' + df['traktandennummer']\n",
    "\n",
    "# Filter source data and only keep Interpellationen\n",
    "# df = df[df['ebene5'] == 'Stadtparlament: Interpellationen']\n",
    "df"
   ]
  },
  {
   "cell_type": "code",
   "execution_count": 6,
   "metadata": {},
   "outputs": [],
   "source": [
    "# Download pdfs for all entries\n",
    "\n",
    "file_path = [] # Placeholder to track issues where no file was found\n",
    "\n",
    "for _, row in df.iterrows():\n",
    "    path = extract_pdf_file(row['download_traktandum'], 'Interpellation', DOWNLOAD_DIRECTORY, row['id'])        \n",
    "    if path is None:\n",
    "        print(f'No pdf found for {row['id']}')\n",
    "    file_path.append(path)\n",
    "\n",
    "df['local_file_path'] = file_path"
   ]
  },
  {
   "cell_type": "code",
   "execution_count": 7,
   "metadata": {},
   "outputs": [],
   "source": [
    "# Save source table and indicator if files were found to disk\n",
    "df.to_csv(f'{DATA_DIRECTORY}/source_table.csv', index=False, sep='\\t')"
   ]
  }
 ],
 "metadata": {
  "kernelspec": {
   "display_name": "stadtparl-sg-tjsVPsVI",
   "language": "python",
   "name": "python3"
  },
  "language_info": {
   "codemirror_mode": {
    "name": "ipython",
    "version": 3
   },
   "file_extension": ".py",
   "mimetype": "text/x-python",
   "name": "python",
   "nbconvert_exporter": "python",
   "pygments_lexer": "ipython3",
   "version": "3.12.1"
  }
 },
 "nbformat": 4,
 "nbformat_minor": 2
}
