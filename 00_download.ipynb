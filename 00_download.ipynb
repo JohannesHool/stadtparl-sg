{
 "cells": [
  {
   "cell_type": "markdown",
   "metadata": {},
   "source": [
    "# Setup"
   ]
  },
  {
   "cell_type": "code",
   "execution_count": 1,
   "metadata": {},
   "outputs": [],
   "source": [
    "import os\n",
    "import requests\n",
    "import zipfile\n",
    "from io import BytesIO\n",
    "import pandas as pd"
   ]
  },
  {
   "cell_type": "code",
   "execution_count": 2,
   "metadata": {},
   "outputs": [],
   "source": [
    "def extract_pdf_file(url, prefix, path, name):\n",
    "    '''\n",
    "    Downloads a ZIP file from a given URL, extracts a PDF file starting with a specified prefix,\n",
    "    and saves it to a specified directory with a new name.\n",
    "\n",
    "    Args:\n",
    "        url (str): The URL from which to download the ZIP file.\n",
    "        prefix (str): The prefix to filter PDF files within the ZIP.\n",
    "        path (str): The local directory path to save the extracted PDF file.\n",
    "        name (str): The new name for the extracted PDF file, without the '.pdf' extension.\n",
    "\n",
    "    Returns:\n",
    "        str or None: The path to the saved PDF file if a PDF file with the specified prefix is found\n",
    "                     and successfully saved; otherwise, None if no PDF file matches the criteria.\n",
    "   \n",
    "    '''\n",
    "    # Download data\n",
    "    response = requests.get(url, stream=True)\n",
    "\n",
    "    # Open Zip\n",
    "    with zipfile.ZipFile(BytesIO(response.content)) as zip_file:\n",
    "\n",
    "        # Iterate over all files in Zip\n",
    "        for file_name in zip_file.namelist():\n",
    "\n",
    "            # If a file with the right prefix is found, extract it\n",
    "            if file_name.startswith(prefix) and file_name.endswith('.pdf'):\n",
    "                with zip_file.open(file_name) as file_content:\n",
    "                    content = file_content.read()\n",
    "\n",
    "                    # Save pdf to disk\n",
    "                    full_path = f'{path}/{name}.pdf'\n",
    "                    with open(full_path, 'wb') as new_file:\n",
    "                        new_file.write(content)\n",
    "                        return full_path\n",
    "    # Return None if no matchin file is found\n",
    "    return None"
   ]
  },
  {
   "cell_type": "markdown",
   "metadata": {},
   "source": [
    "# Parameters"
   ]
  },
  {
   "cell_type": "code",
   "execution_count": 3,
   "metadata": {},
   "outputs": [],
   "source": [
    "# Link to the SG. OGD repository\n",
    "SG_OGD_LINK = 'https://daten.stadt.sg.ch/api/explore/v2.1/catalog/datasets/traktandierte-geschaefte-sitzungen-stadtparlament-stgallen/exports/parquet?lang=de&timezone=Europe%2FZurich'\n",
    "\n",
    "# Paths\n",
    "DATA_DIRECTORY = 'data'\n",
    "DOWNLOAD_DIRECTORY = f'{DATA_DIRECTORY}/pdfs'"
   ]
  },
  {
   "cell_type": "code",
   "execution_count": 4,
   "metadata": {},
   "outputs": [],
   "source": [
    "# Crate folders if the don't exist\n",
    "if not os.path.exists(DATA_DIRECTORY):\n",
    "    os.makedirs(DATA_DIRECTORY)\n",
    "\n",
    "if not os.path.exists(DOWNLOAD_DIRECTORY):\n",
    "    os.makedirs(DOWNLOAD_DIRECTORY)"
   ]
  },
  {
   "cell_type": "markdown",
   "metadata": {},
   "source": [
    "# Download"
   ]
  },
  {
   "cell_type": "code",
   "execution_count": 5,
   "metadata": {},
   "outputs": [],
   "source": [
    "# Download source file from SG_OGD_LINK\n",
    "df = pd.read_parquet(SG_OGD_LINK)\n",
    "\n",
    "# Create id column from the date and issue number\n",
    "df['id'] = df['sitzungsdatum'] + '-' + df['traktandennummer']\n",
    "\n",
    "# Filter source data and only keep Interpellationen\n",
    "df = df[df['ebene5'] == 'Stadtparlament: Interpellationen']"
   ]
  },
  {
   "cell_type": "code",
   "execution_count": 6,
   "metadata": {},
   "outputs": [
    {
     "name": "stdout",
     "output_type": "stream",
     "text": [
      "No pdf found for 2002-05-21-1\n",
      "No pdf found for 2003-12-09-2\n",
      "No pdf found for 2020-05-19-2\n",
      "No pdf found for 2021-05-04-3\n",
      "No pdf found for 2022-05-24-1\n",
      "No pdf found for 2005-05-24-1\n",
      "No pdf found for 2020-06-30-1\n",
      "No pdf found for 2020-11-24-11\n",
      "No pdf found for 2007-05-22-1\n",
      "No pdf found for 2005-07-05-1\n",
      "No pdf found for 2003-12-09-1\n",
      "No pdf found for 2021-02-23-1\n",
      "No pdf found for 2020-03-24-1\n"
     ]
    }
   ],
   "source": [
    "# Download pdfs for all entries\n",
    "\n",
    "file_path = [] # Placeholder to track issues where no file was found\n",
    "\n",
    "for _, row in df.iterrows():\n",
    "    path = extract_pdf_file(row['download_traktandum'], 'Interpellation', DOWNLOAD_DIRECTORY, row['id'])        \n",
    "    if path is None:\n",
    "        print(f'No pdf found for {row['id']}')\n",
    "    file_path.append(path)\n",
    "\n",
    "df['local_file_path'] = file_path"
   ]
  },
  {
   "cell_type": "code",
   "execution_count": 9,
   "metadata": {},
   "outputs": [],
   "source": [
    "# Save source table and indicator if files were found to disk\n",
    "df.to_csv(f'{DATA_DIRECTORY}/source_table.csv', index=False, sep=';')"
   ]
  }
 ],
 "metadata": {
  "kernelspec": {
   "display_name": "stadtparl-sg-tjsVPsVI",
   "language": "python",
   "name": "python3"
  },
  "language_info": {
   "codemirror_mode": {
    "name": "ipython",
    "version": 3
   },
   "file_extension": ".py",
   "mimetype": "text/x-python",
   "name": "python",
   "nbconvert_exporter": "python",
   "pygments_lexer": "ipython3",
   "version": "3.12.1"
  }
 },
 "nbformat": 4,
 "nbformat_minor": 2
}
